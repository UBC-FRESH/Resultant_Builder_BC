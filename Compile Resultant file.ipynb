Preparing Layers
This code takes layers directly downloaded from the Data BC catalogue and prepares them for the creation of a database for landscape level planning. There are a few starting steps that cannot be automated as they are specific to each project.

1. Create a feature class of the area of interest (AOI) for the dataset. 
2. Download data - users might need to use their AOI to work around max download amounts.
Note: for those downloading from the DataBC site, and using an AOI to define the interest area they downloaded layers are not clipped to the AOI but rather are clipped to the smallest square (or rectangle that contains all points of the AOI). This means that if you have an AOI that is in different sections (i.e. a planning area that is not continuous) it will use a rectangle that covers all the points. This may require splitting the AOI into two sections. This case is not included in the code, but it can be adapted to accomidate this.

3. Create a file geodatabase named "Data_Inputs.gdb" in a file location that makes logical sense for the analysis. 
4. Create a file geodatabase named "Data_Prep.gdb" in a file location that makes logical sense for the analysis. 
# User definitions:
​
#arc envrironment
#Set the file directory to a .gdb that hosts all the raw input data for analysis
##Recomended that this .gdb is called Data_Inputs.gdb
​
Data_Inputs = r"E:\Newmont Carbon Project\Data\Data BC\00_Script_creation_Test\Data_Inputs.gdb"
​
#File location to the file directory that host the.gdb where the cleaned up data files will go. 
##Recomended to call this .gdb Data_Prep.gdb
​
Data_Prep = r"E:\Newmont Carbon Project\Data\Data BC\00_Script_creation_Test\Data_Prep.gdb"
​
#Define your AOI file
AOI = "GoldenBear_AOI"
​
​
​
​
​
import arcpy
import time
​
Start = time.time()
​
# Define the work environment and the datasets/feature classes to work with.
# The workspace will be the file location of the Data_Inputs.gdb and needs to be defined by the user.
# out_GDB is where the newly created and prepared layers will be created.
​
arcpy.env.workspace = Data_Inputs
out_GDB = Data_Prep
​
# Feature classes definition
# This section of code defines the differenet layers and provides them with a short name for easier referencing.
# This code is set up to use the layer names of data directly downloaded from the DataBC catalogue. 
# Make sure to change the name of the AOI layer to match what you have called this feature class. 
# If you are missing some layers, simply comment out those lines here and in the following dictionary step.
​
Agric = "WHSE_LEGAL_ADMIN_BOUNDARIES_OATS_ALR_POLYS"
BEC = "BEC"
Caribou = "WHSE_WILDLIFE_INVENTORY_GCPB_CARIBOU_POPULATION_SP"
IR = "WHSE_ADMIN_BOUNDARIES_CLAB_INDIAN_RESERVES"
FN_SOI = "QSOI_BCREG_polygon"
Lakes = "WHSE_LAND_AND_NATURAL_RESOURCE_EAUBC_LAKES_SP"
LU = "WHSE_LAND_USE_PLANNING_RMP_LANDSCAPE_UNIT_SVW"
OGMA = "WHSE_LAND_USE_PLANNING_RMP_OGMA_LEGAL_CURRENT_SVW"
Parks_Fed = "WHSE_ADMIN_BOUNDARIES.CLAB_NATIONAL_PARKS"
Parks_Prv = "WHSE_ADMIN_BOUNDARIES_ADM_BC_PARKS_REGIONS_SP"
Rec = "WHSE_FOREST_VEGETATION_REC_VISUAL_LANDSCAPE_INVENTORY"
Results = "WHSEFOREST_VEGETATION.VEG_CONSOLIDATED_CUT_BLOCKS_SP"
Rivers = "WHSE_BASEMAPPING_FWA_RIVERS_POLY"
F_Roads = "WHSE_FOREST_TENURE.FTEN_ROAD_LINES"
Roads = "DRA_MPAR_line"
Streams = "WHSE_BASEMAPPING_FWA_STREAM_NETWORKS_SP"
F_Own = "F_OWN_polygon"
UWR = "WHSE_WILDLIFE_MANAGEMENT_WCP_WILDLIFE_HABITAT_AREA_POLY"
VRI = "GoldenBear_R1_Poly"
Watersheds = "COM_WS_PUB_polygon"
Geo_watersheds = "WHSE_FISH_WDIC_WATERSHED_GROUP_POLY"
Wetlands = "WHSE_BASEMAPPING_FWA_WETLANDS_POLY"
WHA_a = "WHSE_WILDLIFE_MANAGEMENT_WCP_WILDLIFE_HABITAT_AREA_POLY"
WHA_p = "WHA_proposed"
​
# Dictionary of all feature classes; 
# dict key = variable defined above for each feature class name in the workspace GDB
# Make sure that all of the layers you defined above are included here. 
# Comment out any layers that are missing. 
​
layersDict = {
    aoi: "AOI",
    Agric: "Agric",
    BEC: "BEC",
    Caribou: "Caribou",
    IR: "IR",
    FN_SOI: "FN_SOI",
    Lakes: "Lakes",
    LU: "LU",
    OGMA: "OGMA",
    Parks_Fed: "Parks_Fed",
    Parks_Prv: "Parks_Prv",
    Rec: "Rec",
    Results: "Results",
    Rivers: "Rivers",
    F_Roads: "F_Roads"
    Roads: "Roads",
    Streams: "Streams",
    F_Own: "F_Own",
    UWR: "UWR",
    VRI: "VRI",
    Watersheds: "Watersheds",
    Geo_watersheds: "Geo_watersheds",
    Wetlands: "Wetlands",
    WHA_a: "WHA_a",
    WHA_p: "WHA_p"
}
​
# Project feature classes to a common coordinate system defined by VRI
# This section of code ensure that each layer is using the same projection and coordinate system.
# It uses the VRI as reference, and would work with any similar dataset.
# It creates a new layer for each of the defined layers called DEFINEDNAME_proj. Here _proj stands for projection.
# These layers will be created in the Data_Inputs.gdb
# There will be no layer created called VRI_proj, since we are using the VRI as the reference data. We will account for this in the following step. 
​
desc = arcpy.Describe(VRI)
sr = desc.spatialReference
​
for m in layersDict.keys():
    if layersDict[m] != "VRI":
        arcpy.Project_management(m, layersDict[m]+"_proj", sr)
​
print("Data projection finished. Clipping to AOI...")
​
# Clip all feature classes to AOI_proj
# This section clips all the layers to AOI_proj and exports them to the Data_Prep.gdb.
​
#This section works with all layers excluding the aoi and VRI layers
for m in layersDict.keys():
    if layersDict[m] not in [aoi, "VRI"]:
        arcpy.Clip_analysis(layersDict[m] + "_proj", "AOI_proj", out_GDB + "\\" + layersDict[m] + "_proj_clip")
​
#This section clips the VRI and accounts for its different name in the step above.
arcpy.Clip_analysis(VRI, "AOI_proj", out_GDB + "\\" + "VRI" + "_proj_clip")
​
print("Clipping to AOI_proj finished. Repairing geometry...")
​
# Repair Geometry
# This section fixes any geometry errors. This tool does not create a new feature class.
# Instead it repairs any self intersections, invalid records. ect. 
​
arcpy.env.workspace = out_GDB
for m in layersDict.keys():
     arcpy.RepairGeometry_management(layersDict[m]+"_proj_clip")
​
print('It took', round((time.time() - Start) / 60, 1), "minutes to prepare the layers.")
​
